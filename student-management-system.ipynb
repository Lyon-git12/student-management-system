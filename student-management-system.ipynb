{
 "cells": [
  {
   "cell_type": "code",
   "execution_count": 18,
   "id": "2920f635-c6e8-4aca-8108-5ae884310e26",
   "metadata": {},
   "outputs": [],
   "source": [
    "# ================================\n",
    "# Student Management System (SMS)\n",
    "# ================================\n",
    "# This program implements:\n",
    "#  - File-based secure login (users.txt)\n",
    "#  - CRUD (create, read, update, and delete) for student records (students.txt)\n",
    "#  - Activity logging with timestamps (activity_log.txt)\n",
    "#  - A simple menu-driven interface"
   ]
  },
  {
   "cell_type": "code",
   "execution_count": 19,
   "id": "a7962b04-09b0-4121-84d4-d18467e4ec24",
   "metadata": {},
   "outputs": [],
   "source": [
    "# Import the required modules \n",
    "import os         # Allows the communication with the operating system to efficiently work with files, folders and system settings.\n",
    "import getpass    # Used for username and password handling. Asks for passwords securely in login scripts or authentication.\n",
    "import datetime   # Lets you create timestamps, calculate differences between dates, format date etc."
   ]
  },
  {
   "cell_type": "code",
   "execution_count": 20,
   "id": "a15af368-37d8-430a-b3f9-20b35a0a5c02",
   "metadata": {},
   "outputs": [
    {
     "data": {
      "text/plain": [
       "(True, True, True)"
      ]
     },
     "execution_count": 20,
     "metadata": {},
     "output_type": "execute_result"
    }
   ],
   "source": [
    "# Testing the imported modules to make sure they were installed and working properly.\n",
    "\"os\" in globals(), \"getpass\" in globals(), \"datetime\" in globals()\n"
   ]
  },
  {
   "cell_type": "code",
   "execution_count": 21,
   "id": "42496bbc-c9ab-4be6-b0fe-f1e6ab38487e",
   "metadata": {},
   "outputs": [],
   "source": [
    "# Store file paths\n",
    "# ---------------------\n",
    "# File paths\n",
    "# ---------------------\n",
    "USER_FILE = \"users.txt\"\n",
    "STUDENT_FILE = \"student.txt\"\n",
    "LOG_FILE = \"activity_log.txt\"\n",
    "# These variables store the filenames where user data, student records, and logs will be saved."
   ]
  },
  {
   "cell_type": "code",
   "execution_count": 22,
   "id": "9db5e961-a3d1-46af-bc13-0139c6f9bcb4",
   "metadata": {},
   "outputs": [
    {
     "data": {
      "text/plain": [
       "' \\nThis secures access to the Student Management System. It loads user credentials from a file, allows new\\nusers to be savedm, and checks login details against records. Successful logins are recorded in an activity log, \\nwhile invalid attempts are denied. This ensures only authorized users can manage student data.\\n'"
      ]
     },
     "execution_count": 22,
     "metadata": {},
     "output_type": "execute_result"
    }
   ],
   "source": [
    "# AUTHENTICATION SYSTEM\n",
    "\"\"\" \n",
    "This secures access to the Student Management System. It loads user credentials from a file, allows new\n",
    "users to be savedm, and checks login details against records. Successful logins are recorded in an activity log, \n",
    "while invalid attempts are denied. This ensures only authorized users can manage student data.\n",
    "\"\"\""
   ]
  },
  {
   "cell_type": "code",
   "execution_count": 23,
   "id": "e9f29703-784c-44fd-8306-238b84485997",
   "metadata": {},
   "outputs": [],
   "source": [
    "# Log and Load User's fucntions\n",
    "\n",
    "def log_activity(username, action):\n",
    "    \"\"\"Append one line to the log file with a timestamp, the user, and what they did (action).\"\"\"\n",
    "\n",
    "    # Open the log file in \"append\" mode so we keep old entries and add a new one\n",
    "    with open(LOG_FILE, \"a\") as log:\n",
    "        log.write(f\"{datetime.datetime.now()} - {username} - {action}\\n\")\n",
    "\n",
    "def load_users():\n",
    "    \"\"\"Load users from the file into dictionary\"\"\"\n",
    "    users = {}\n",
    "    if os.path.exists(USER_FILE):           # Only try to read if the file is there\n",
    "        with open(USER_FILE, \"r\") as f:\n",
    "            for line in f:                  # Iterate line-by-line\n",
    "                if \",\" in line:             # Expect \"username,password\"\n",
    "                    uname, pwd = line.strip().split(\",\", 1)    # Split only on the first comma\n",
    "                    users[uname] = pwd\n",
    "    return users"
   ]
  },
  {
   "cell_type": "code",
   "execution_count": 24,
   "id": "b7060e65-6daf-4dd2-a0a6-9b7282968c6f",
   "metadata": {},
   "outputs": [],
   "source": [
    "# Save User function\n",
    "\n",
    "def save_user(username, password):\n",
    "    \"\"\"Add a new line \"username,password\" to save a new user to USER_FILE\"\"\"    \n",
    "\n",
    "    # Open in append mode so we don't overwrite existing users\n",
    "    with open(USER_FILE, \"a\") as f:\n",
    "        f.write(f\"{username},{password}\\n\")"
   ]
  },
  {
   "cell_type": "code",
   "execution_count": 25,
   "id": "3b958d85-adb2-4170-b62f-2268a6e5f7a2",
   "metadata": {},
   "outputs": [],
   "source": [
    "# Authenticate User function\n",
    "\n",
    "def authenticate():\n",
    "    \"\"\"\n",
    "    Authenticate user login. Prompt the console user for username and password input.\n",
    "    Return the username if the credentials match; otherwise return None.\n",
    "    \"\"\"  \n",
    "    users = load_users()                   \n",
    "    username = input(\"Enter Username: \").strip()\n",
    "    password = getpass.getpass(\"Enter Password: \").strip()\n",
    "\n",
    "    # Check dictionary: key exists and stored password matches input\n",
    "    if username in users and users[username] == password:\n",
    "        log_activity(username, \"logged in\")\n",
    "        print(\"\\n:✅ Login Successful!\\n\")\n",
    "        return username\n",
    "    else:\n",
    "        print(\"\\n✖️ Invalid credentials!\\n\")\n",
    "        return None"
   ]
  },
  {
   "cell_type": "code",
   "execution_count": 26,
   "id": "0605eca4-d023-4324-8624-474a78b9f133",
   "metadata": {},
   "outputs": [
    {
     "data": {
      "text/plain": [
       "'\\nThe student data management fucntions handle records stored in a file. They allows users to add new students,\\nview all records, search for specific students, update details, and delete entries. This ensures accurate and \\norganized management of student information.\\n'"
      ]
     },
     "execution_count": 26,
     "metadata": {},
     "output_type": "execute_result"
    }
   ],
   "source": [
    "# STUDENT DATA MANAGEMENT (CRUD)\n",
    "\"\"\"\n",
    "The student data management fucntions handle records stored in a file. They allows users to add new students,\n",
    "view all records, search for specific students, update details, and delete entries. This ensures accurate and \n",
    "organized management of student information.\n",
    "\"\"\""
   ]
  },
  {
   "cell_type": "code",
   "execution_count": 27,
   "id": "bc63aa08-a9ea-4b52-b2dd-30ae21a1bd83",
   "metadata": {},
   "outputs": [],
   "source": [
    "# Add Student function\n",
    "\n",
    "def add_student(username):\n",
    "    \"\"\" Create a new student record by asking for roll, name, grade, then append to STUDENT_FILE. \"\"\"\n",
    "    roll = input(\"Enter Roll Number: \").strip()\n",
    "    name = input(\"Enter Name: \").strip()\n",
    "    grade =  input(\"Enter Grade: \").strip()\n",
    "\n",
    "    with open(STUDENT_FILE, \"a\") as f:\n",
    "        f.write(f\"{roll},{name},{grade}\\n\")\n",
    "\n",
    "    log_activity(username, f\"Added student {roll}\")\n",
    "    print(\"✅ Student added successfully!\")"
   ]
  },
  {
   "cell_type": "code",
   "execution_count": 28,
   "id": "26d92f8e-2447-48c6-80a7-e097652baec5",
   "metadata": {},
   "outputs": [],
   "source": [
    "# View Student function\n",
    "\n",
    "def view_students():\n",
    "    \"\"\" Print all student records in a readable format. \"\"\"\n",
    "    if not os.path.exists(STUDENT_FILE):\n",
    "        print(\"No records found\")\n",
    "        return\n",
    "\n",
    "    with open(STUDENT_FILE, \"r\") as f:\n",
    "        print(\"\\n--- Student Records ---\")\n",
    "        for line in f:                          # Go through each line\n",
    "            roll, name, grade, = line.strip().split(\",\")                \n",
    "            print(f\"Roll: {roll} | Name: {name} | Grade: {grade}\") "
   ]
  },
  {
   "cell_type": "code",
   "execution_count": 29,
   "id": "38ba40e2-a58b-48a1-a6a6-93ac119bac64",
   "metadata": {},
   "outputs": [],
   "source": [
    "# Search Student function\n",
    "\n",
    "def search_student():\n",
    "    roll_no = input(\"Enter Roll Number to search: \").strip()\n",
    "    found = False\n",
    "\n",
    "    if os.path.exists(STUDENT_FILE):\n",
    "        with open(STUDENT_FILE, \"r\") as f:\n",
    "            for line in f:\n",
    "                parts = line.strip().split(\",\")      # Expect: roll,name,grade\n",
    "                if len(parts) != 3:                  # Skip any wrong input/empty lines\n",
    "                    continue\n",
    "                roll, name, grade = parts            # Unpack fields\n",
    "                if roll == roll_no:                  # Compare with target roll number\n",
    "                    print(f\"✅ Found: Roll: {roll} | Name: {name} | Grade: {grade}\")\n",
    "                    found = True\n",
    "                    break             # Stop searching after first match\n",
    "\n",
    "    if not found:                    # If it never matched\n",
    "        print(\"❌ Student not found.\")"
   ]
  },
  {
   "cell_type": "code",
   "execution_count": 30,
   "id": "002d4c01-8e7c-4b4b-8d0e-0dd710e80b56",
   "metadata": {},
   "outputs": [],
   "source": [
    "# Update Student function\n",
    "\n",
    "def update_student(username):\n",
    "    \"\"\"  \n",
    "    Update a student's name and grade by roll number.\n",
    "    Implementation:\n",
    "      - Read all existing lines\n",
    "      - Rewrite file, replacing the matching line with updated fields.\n",
    "    \"\"\"  \n",
    "    roll_no = input(\"Enter Roll Number to update: \").strip()\n",
    "    students = []         # All the lines are collected here\n",
    "    updated = False\n",
    "\n",
    "    if os.path.exists(STUDENT_FILE):\n",
    "        with open(STUDENT_FILE, \"r\") as f:\n",
    "            students = f.readlines()          # Read file into a list of lines\n",
    "\n",
    "        # Re-open the file for writing and recreate it line-by-line\n",
    "        with open(STUDENT_FILE, \"w\") as f:\n",
    "            for line in students:\n",
    "                parts = line.strip().split(\",\")\n",
    "                if len(parts) != 3:\n",
    "                    f.write(line)\n",
    "                    continue\n",
    "                roll, name, grade = [x.strip() for x in parts]\n",
    "                if roll == roll_no:\n",
    "                    # Show current values and ask for new ones\n",
    "                    print(f\"Curent Data → Name: {name}, Grade: {grade}\")\n",
    "                    new_name = input(\"Enter new Name: \").strip()\n",
    "                    new_grade = input(\"Enter new Grade: \").strip()\n",
    "                    f.write(f\"{roll},{new_name},{new_grade}\\n\")\n",
    "                    updated = True\n",
    "                    log_activity(username, f\"Updated student {roll}\")\n",
    "                else:\n",
    "                    f.write(f\"{roll},{name},{grade}\\n\")          # Keep non-matching records as they are\n",
    "\n",
    "    # User feedback\n",
    "    if updated:\n",
    "        print(\"✅ Student record updated.\")\n",
    "    else:\n",
    "        print(\"✖️ Student not found.\")"
   ]
  },
  {
   "cell_type": "code",
   "execution_count": 31,
   "id": "2ef27407-e717-477c-ac05-6927263fd6ef",
   "metadata": {},
   "outputs": [],
   "source": [
    "# Delete Student function\n",
    "\n",
    "def delete_student(username):\n",
    "    \"\"\" \n",
    "      - Remove one student record by roll number.\n",
    "      - Implementation:\n",
    "      - Read all lines\n",
    "      - Rewrite the file with all lines except the one that matches the roll.\n",
    "    \"\"\"\n",
    "    roll_no = input(\"Enter Roll Number to delete: \").strip()\n",
    "    students = []\n",
    "    deleted = False\n",
    "\n",
    "    if os.path.exists(STUDENT_FILE):\n",
    "        with open(STUDENT_FILE, \"r\") as f:\n",
    "            students = f.readlines()\n",
    "\n",
    "        with open(STUDENT_FILE, \"w\") as f:\n",
    "            for line in students:\n",
    "                # Skip enter or invalid lines\n",
    "                parts = line.strip().split(\",\")\n",
    "                if len(parts) != 3:\n",
    "                    f.write(line)       # Keep invalid lines unchanged\n",
    "                    continue\n",
    "\n",
    "                roll, name, grade = [x.strip() for x in parts]\n",
    "                if roll == roll_no:\n",
    "                    deleted = True\n",
    "                    # Log deletion\n",
    "                    log_activity(username, f\"Deleted student {roll}\")\n",
    "                else:\n",
    "                    f.write(f\"{roll},{name},{grade}\\n\")   \n",
    "\n",
    "    if deleted:\n",
    "        print(\"✅ Student record deleted.\")\n",
    "    else:\n",
    "        print(\"✖️ Student not found.\")"
   ]
  },
  {
   "cell_type": "code",
   "execution_count": 32,
   "id": "3f836c88-0591-4719-a109-b301d5339b71",
   "metadata": {},
   "outputs": [],
   "source": [
    "# Report Generation\n",
    "\n",
    "def generate_report():\n",
    "    \"\"\" \n",
    "    Read all student records and print:\n",
    "      - total number of students\n",
    "      - how many per grade\n",
    "    \"\"\"\n",
    "    if not os.path.exists(STUDENT_FILE):\n",
    "        print(\"No records available.\").strip()\n",
    "        return\n",
    "    \n",
    "    total = 0\n",
    "    grades = {}\n",
    "    with open(STUDENT_FILE, \"r\") as f:\n",
    "        for line in f:\n",
    "            roll, name, grade = line.strip().split(\",\")\n",
    "            total += 1\n",
    "            grades[grade] = grades.get(grade, 0) + 1       # Count by grade\n",
    "\n",
    "    print(\"\\n📊 student Report\")\n",
    "    print(f\"Total Students: {total}\")\n",
    "    for g, count in grades.items():\n",
    "        print((f\"Grade {g}: {count} student(s)\"))"
   ]
  },
  {
   "cell_type": "code",
   "execution_count": 33,
   "id": "8ef9ad63-bc2c-41cd-8ae1-addc3cfa11c8",
   "metadata": {},
   "outputs": [
    {
     "data": {
      "text/plain": [
       "' \\nThe function below allow users to remove events, it prompts for the event title to delete. It filters the events \\nlist to exclude any event with a matching title (case-sensitive) and updates the list. A conformation message is \\ndisplayed regardless of whether the event was found or not. \\n'"
      ]
     },
     "execution_count": 33,
     "metadata": {},
     "output_type": "execute_result"
    }
   ],
   "source": [
    "# Main Program\n",
    "\"\"\" \n",
    "The function below allow users to remove events, it prompts for the event title to delete. It filters the events \n",
    "list to exclude any event with a matching title (case-sensitive) and updates the list. A conformation message is \n",
    "displayed regardless of whether the event was found or not. \n",
    "\"\"\""
   ]
  },
  {
   "cell_type": "code",
   "execution_count": 35,
   "id": "d350ae2e-e06f-400d-b258-c06c8d9a5eec",
   "metadata": {},
   "outputs": [
    {
     "name": "stdout",
     "output_type": "stream",
     "text": [
      "===== Student Management System =====\n",
      "No users found, Create an Admin account.\n"
     ]
    },
    {
     "name": "stdin",
     "output_type": "stream",
     "text": [
      "Set Admin Username:  Lyon Qing\n",
      "Set Admin Password:  ········\n"
     ]
    },
    {
     "name": "stdout",
     "output_type": "stream",
     "text": [
      "✅ Admin created! Please restart the program.\n"
     ]
    },
    {
     "name": "stdin",
     "output_type": "stream",
     "text": [
      "Enter Username:  Lyon Qing\n",
      "Enter Password:  ········\n"
     ]
    },
    {
     "name": "stdout",
     "output_type": "stream",
     "text": [
      "\n",
      ":✅ Login Successful!\n",
      "\n",
      "\n",
      "--- Main menu ---\n",
      "1. Add Student\n",
      "2. view All Students\n",
      "3. Search Student\n",
      "4. Update Student\n",
      "5. Delete Student\n",
      "6. Generate Report\n",
      "7. Logout & Exit\n"
     ]
    },
    {
     "name": "stdin",
     "output_type": "stream",
     "text": [
      "Enter choice:  1\n",
      "Enter Roll Number:  101\n",
      "Enter Name:  Rose\n",
      "Enter Grade:  F\n"
     ]
    },
    {
     "name": "stdout",
     "output_type": "stream",
     "text": [
      "✅ Student added successfully!\n",
      "\n",
      "--- Main menu ---\n",
      "1. Add Student\n",
      "2. view All Students\n",
      "3. Search Student\n",
      "4. Update Student\n",
      "5. Delete Student\n",
      "6. Generate Report\n",
      "7. Logout & Exit\n"
     ]
    },
    {
     "name": "stdin",
     "output_type": "stream",
     "text": [
      "Enter choice:  1\n",
      "Enter Roll Number:  102\n",
      "Enter Name:  Kyei\n",
      "Enter Grade:  D\n"
     ]
    },
    {
     "name": "stdout",
     "output_type": "stream",
     "text": [
      "✅ Student added successfully!\n",
      "\n",
      "--- Main menu ---\n",
      "1. Add Student\n",
      "2. view All Students\n",
      "3. Search Student\n",
      "4. Update Student\n",
      "5. Delete Student\n",
      "6. Generate Report\n",
      "7. Logout & Exit\n"
     ]
    },
    {
     "name": "stdin",
     "output_type": "stream",
     "text": [
      "Enter choice:  103\n"
     ]
    },
    {
     "name": "stdout",
     "output_type": "stream",
     "text": [
      "✖️ Invalid choice! Please try again.\n",
      "\n",
      "--- Main menu ---\n",
      "1. Add Student\n",
      "2. view All Students\n",
      "3. Search Student\n",
      "4. Update Student\n",
      "5. Delete Student\n",
      "6. Generate Report\n",
      "7. Logout & Exit\n"
     ]
    },
    {
     "name": "stdin",
     "output_type": "stream",
     "text": [
      "Enter choice:  1\n",
      "Enter Roll Number:  103\n",
      "Enter Name:  Fosua\n",
      "Enter Grade:  C\n"
     ]
    },
    {
     "name": "stdout",
     "output_type": "stream",
     "text": [
      "✅ Student added successfully!\n",
      "\n",
      "--- Main menu ---\n",
      "1. Add Student\n",
      "2. view All Students\n",
      "3. Search Student\n",
      "4. Update Student\n",
      "5. Delete Student\n",
      "6. Generate Report\n",
      "7. Logout & Exit\n"
     ]
    },
    {
     "name": "stdin",
     "output_type": "stream",
     "text": [
      "Enter choice:  1\n",
      "Enter Roll Number:  104\n",
      "Enter Name:  Mike\n",
      "Enter Grade:  B\n"
     ]
    },
    {
     "name": "stdout",
     "output_type": "stream",
     "text": [
      "✅ Student added successfully!\n",
      "\n",
      "--- Main menu ---\n",
      "1. Add Student\n",
      "2. view All Students\n",
      "3. Search Student\n",
      "4. Update Student\n",
      "5. Delete Student\n",
      "6. Generate Report\n",
      "7. Logout & Exit\n"
     ]
    },
    {
     "name": "stdin",
     "output_type": "stream",
     "text": [
      "Enter choice:  1\n",
      "Enter Roll Number:  105\n",
      "Enter Name:  Lucy\n",
      "Enter Grade:  A\n"
     ]
    },
    {
     "name": "stdout",
     "output_type": "stream",
     "text": [
      "✅ Student added successfully!\n",
      "\n",
      "--- Main menu ---\n",
      "1. Add Student\n",
      "2. view All Students\n",
      "3. Search Student\n",
      "4. Update Student\n",
      "5. Delete Student\n",
      "6. Generate Report\n",
      "7. Logout & Exit\n"
     ]
    },
    {
     "name": "stdin",
     "output_type": "stream",
     "text": [
      "Enter choice:  1\n",
      "Enter Roll Number:  106\n",
      "Enter Name:  John\n",
      "Enter Grade:  A\n"
     ]
    },
    {
     "name": "stdout",
     "output_type": "stream",
     "text": [
      "✅ Student added successfully!\n",
      "\n",
      "--- Main menu ---\n",
      "1. Add Student\n",
      "2. view All Students\n",
      "3. Search Student\n",
      "4. Update Student\n",
      "5. Delete Student\n",
      "6. Generate Report\n",
      "7. Logout & Exit\n"
     ]
    },
    {
     "name": "stdin",
     "output_type": "stream",
     "text": [
      "Enter choice:  2\n"
     ]
    },
    {
     "name": "stdout",
     "output_type": "stream",
     "text": [
      "\n",
      "--- Student Records ---\n",
      "Roll: 101 | Name: Rose | Grade: F\n",
      "Roll: 102 | Name: Kyei | Grade: D\n",
      "Roll: 103 | Name: Fosua | Grade: C\n",
      "Roll: 104 | Name: Mike | Grade: B\n",
      "Roll: 105 | Name: Lucy | Grade: A\n",
      "Roll: 106 | Name: John | Grade: A\n",
      "\n",
      "--- Main menu ---\n",
      "1. Add Student\n",
      "2. view All Students\n",
      "3. Search Student\n",
      "4. Update Student\n",
      "5. Delete Student\n",
      "6. Generate Report\n",
      "7. Logout & Exit\n"
     ]
    },
    {
     "name": "stdin",
     "output_type": "stream",
     "text": [
      "Enter choice:  3\n",
      "Enter Roll Number to search:  103\n"
     ]
    },
    {
     "name": "stdout",
     "output_type": "stream",
     "text": [
      "✅ Found: Roll: 103 | Name: Fosua | Grade: C\n",
      "\n",
      "--- Main menu ---\n",
      "1. Add Student\n",
      "2. view All Students\n",
      "3. Search Student\n",
      "4. Update Student\n",
      "5. Delete Student\n",
      "6. Generate Report\n",
      "7. Logout & Exit\n"
     ]
    },
    {
     "name": "stdin",
     "output_type": "stream",
     "text": [
      "Enter choice:  4\n",
      "Enter Roll Number to update:  101\n"
     ]
    },
    {
     "name": "stdout",
     "output_type": "stream",
     "text": [
      "Curent Data → Name: Rose, Grade: F\n"
     ]
    },
    {
     "name": "stdin",
     "output_type": "stream",
     "text": [
      "Enter new Name:  Rokyei\n",
      "Enter new Grade:  A\n"
     ]
    },
    {
     "name": "stdout",
     "output_type": "stream",
     "text": [
      "✅ Student record updated.\n",
      "\n",
      "--- Main menu ---\n",
      "1. Add Student\n",
      "2. view All Students\n",
      "3. Search Student\n",
      "4. Update Student\n",
      "5. Delete Student\n",
      "6. Generate Report\n",
      "7. Logout & Exit\n"
     ]
    },
    {
     "name": "stdin",
     "output_type": "stream",
     "text": [
      "Enter choice:  5\n",
      "Enter Roll Number to delete:  105\n"
     ]
    },
    {
     "name": "stdout",
     "output_type": "stream",
     "text": [
      "✅ Student record deleted.\n",
      "\n",
      "--- Main menu ---\n",
      "1. Add Student\n",
      "2. view All Students\n",
      "3. Search Student\n",
      "4. Update Student\n",
      "5. Delete Student\n",
      "6. Generate Report\n",
      "7. Logout & Exit\n"
     ]
    },
    {
     "name": "stdin",
     "output_type": "stream",
     "text": [
      "Enter choice:  6\n"
     ]
    },
    {
     "name": "stdout",
     "output_type": "stream",
     "text": [
      "\n",
      "📊 student Report\n",
      "Total Students: 5\n",
      "Grade A: 2 student(s)\n",
      "Grade D: 1 student(s)\n",
      "Grade C: 1 student(s)\n",
      "Grade B: 1 student(s)\n",
      "\n",
      "--- Main menu ---\n",
      "1. Add Student\n",
      "2. view All Students\n",
      "3. Search Student\n",
      "4. Update Student\n",
      "5. Delete Student\n",
      "6. Generate Report\n",
      "7. Logout & Exit\n"
     ]
    },
    {
     "name": "stdin",
     "output_type": "stream",
     "text": [
      "Enter choice:  7\n"
     ]
    },
    {
     "name": "stdout",
     "output_type": "stream",
     "text": [
      "👋 Goodbye!\n"
     ]
    }
   ],
   "source": [
    "def main(): \n",
    "    print(\"===== Student Management System =====\")\n",
    "    \"\"\" 1) Prompt to create an Admin, if no user exists then exit so you can log in next run. \n",
    "        2) Otherwise, authenticate. 3) Show the menu loop and route to the appropriate function. \n",
    "    \"\"\"\n",
    "\n",
    "# Ensure admin user exists \n",
    "    if not os.path.exists(USER_FILE): \n",
    "        print(\"No users found, Create an Admin account.\")\n",
    "        uname = input(\"Set Admin Username: \").strip()\n",
    "        pwd = getpass.getpass(\"Set Admin Password: \").strip() \n",
    "        save_user(uname, pwd) \n",
    "        print(\"✅ Admin created! Please restart the program.\")\n",
    "\n",
    "    username = None \n",
    "    while not username: \n",
    "        username = authenticate() \n",
    "        # Menu \n",
    "    while True: \n",
    "        print(\"\\n--- Main menu ---\") \n",
    "        print(\"1. Add Student\") \n",
    "        print(\"2. view All Students\") \n",
    "        print(\"3. Search Student\") \n",
    "        print(\"4. Update Student\") \n",
    "        print(\"5. Delete Student\") \n",
    "        print(\"6. Generate Report\") \n",
    "        print(\"7. Logout & Exit\")\n",
    "\n",
    "        choice = input(\"Enter choice: \").strip()\n",
    "            \n",
    "        if choice == \"1\": \n",
    "            add_student(username) \n",
    "        elif choice == \"2\": \n",
    "            view_students() \n",
    "        elif choice == \"3\": \n",
    "            search_student() \n",
    "        elif choice == \"4\": \n",
    "            update_student(username) \n",
    "        elif choice == \"5\": \n",
    "            delete_student(username) \n",
    "        elif choice == \"6\": \n",
    "            generate_report() \n",
    "        elif choice == \"7\": \n",
    "            log_activity(username, \"Logged out\") \n",
    "            print(\"👋 Goodbye!\") \n",
    "            break \n",
    "        else: \n",
    "            print(\"✖️ Invalid choice! Please try again.\") \n",
    "                \n",
    "if __name__ == \"__main__\": \n",
    "    main()"
   ]
  },
  {
   "cell_type": "code",
   "execution_count": null,
   "id": "1523d048-1205-45d5-bc26-33b92e4ba4e0",
   "metadata": {},
   "outputs": [],
   "source": []
  },
  {
   "cell_type": "code",
   "execution_count": null,
   "id": "45ab31ca-f8cf-402a-8a4a-e0617a909b4e",
   "metadata": {},
   "outputs": [],
   "source": []
  }
 ],
 "metadata": {
  "kernelspec": {
   "display_name": "Python 3 (ipykernel)",
   "language": "python",
   "name": "python3"
  },
  "language_info": {
   "codemirror_mode": {
    "name": "ipython",
    "version": 3
   },
   "file_extension": ".py",
   "mimetype": "text/x-python",
   "name": "python",
   "nbconvert_exporter": "python",
   "pygments_lexer": "ipython3",
   "version": "3.13.7"
  }
 },
 "nbformat": 4,
 "nbformat_minor": 5
}
